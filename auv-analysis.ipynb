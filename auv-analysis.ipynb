{
 "cells": [
  {
   "cell_type": "code",
   "execution_count": 3,
   "id": "203a94e8",
   "metadata": {},
   "outputs": [],
   "source": [
    "import msgpack\n",
    "import pandas\n",
    "import matplotlib\n",
    "import difflib"
   ]
  },
  {
   "cell_type": "markdown",
   "id": "29a0caaa",
   "metadata": {},
   "source": [
    "## MessagePack as seen on Zenodo"
   ]
  },
  {
   "cell_type": "code",
   "execution_count": 4,
   "id": "25e7726a",
   "metadata": {},
   "outputs": [
    {
     "name": "stdout",
     "output_type": "stream",
     "text": [
      "b'\\xde\\x00$\\xb5sensor_ctd.io_raw_out\\x90\\xbbsensor_ctd.io_read_listener\\xdd\\x00\\x01\\x01\\xa1\\x82\\xa4time\\x81\\xacmicroseconds\\xcf\\x00\\x05\\xdbr\\x03\\xbb\\tL\\xa4data\\xdc\\x00\\x17$09.912|01.975|00.024\\r\\n\\x82\\xa4time\\x81\\xacmicroseconds\\xcf\\x00\\x05\\xdbr\\x03\\xbb\\x0b5\\xa4data\\xdc\\x00\\x17$09.917|01.974|00.024\\r\\n\\x82\\xa4time\\x81\\xacmicroseconds\\xcf\\x00\\x05\\xdbr\\x03\\xbb\\x0b\\x89\\xa4data\\xdc\\x00\\x17$09.927|01.975|00.024\\r\\n\\x82\\xa4time\\x81\\xacmicroseconds\\xcf\\x00\\x05\\xdbr\\x03\\xbb\\x0b\\xbe\\xa4data\\xdc\\x00\\x17$09.948|01.972|00.024\\r\\n\\x82\\xa4time\\x81\\xacmicroseconds\\xcf\\x00\\x05\\xdbr\\x03\\xbb\\x0b\\xfe\\xa4data\\xdc\\x00\\x17$09.959|01.978|00.024\\r\\n\\x82\\xa4time\\x81\\xacmicroseconds\\xcf\\x00\\x05\\xdbr\\x03\\xbb\\x0c.\\xa4data\\xdc\\x00\\x17$09.'\n"
     ]
    }
   ],
   "source": [
    "with open(\"./abisko_trials/ctd.msg\", \"rb\") as f:\n",
    "    raw_bytes = f.read(400)\n",
    "print(raw_bytes)"
   ]
  },
  {
   "cell_type": "code",
   "execution_count": 5,
   "id": "3576c192",
   "metadata": {},
   "outputs": [
    {
     "name": "stdout",
     "output_type": "stream",
     "text": [
      "<class 'dict'>\n"
     ]
    }
   ],
   "source": [
    "log = msgpack.unpack(open(\"./abisko_trials/ctd.msg\", \"rb\"))\n",
    "print(type(log))\n",
    "df = pandas.DataFrame(log['sensor_ctd.pressure_samples'])"
   ]
  },
  {
   "cell_type": "code",
   "execution_count": 7,
   "id": "6c7ab87e",
   "metadata": {},
   "outputs": [
    {
     "name": "stdout",
     "output_type": "stream",
     "text": [
      "['sensor_ctd.io_raw_out', 'sensor_ctd.io_read_listener', 'sensor_ctd.io_status', 'sensor_ctd.io_write_listener', 'sensor_ctd.state', 'sensor_ctd.ctd_samples', 'sensor_ctd.depth_samples', 'sensor_ctd.pressure_samples', 'sensor_ctd.temperature_samples', 'sensor_ctd.io_raw_out.meta', 'sensor_ctd.io_read_listener.meta', 'sensor_ctd.io_status.meta', 'sensor_ctd.io_write_listener.meta', 'sensor_ctd.state.meta', 'sensor_ctd.ctd_samples.meta', 'sensor_ctd.depth_samples.meta', 'sensor_ctd.pressure_samples.meta', 'sensor_ctd.temperature_samples.meta']\n",
      "18\n"
     ]
    }
   ],
   "source": [
    "print(list(log.keys()))\n",
    "print(len(list(log.keys())))"
   ]
  },
  {
   "cell_type": "code",
   "execution_count": 8,
   "id": "325b411e",
   "metadata": {},
   "outputs": [
    {
     "name": "stdout",
     "output_type": "stream",
     "text": [
      "        pascal                                time\n",
      "0      99120.0  {'microseconds': 1648657618897349}\n",
      "1      99170.0  {'microseconds': 1648657618897749}\n",
      "2      99270.0  {'microseconds': 1648657618897815}\n",
      "3      99480.0  {'microseconds': 1648657618897876}\n",
      "4      99590.0  {'microseconds': 1648657618897928}\n",
      "...        ...                                 ...\n",
      "22278  98780.0  {'microseconds': 1648660344736634}\n",
      "22279  98720.0  {'microseconds': 1648660344860093}\n",
      "22280  98940.0  {'microseconds': 1648660344986725}\n",
      "22281  98870.0  {'microseconds': 1648660345109597}\n",
      "22282  98880.0  {'microseconds': 1648660345235037}\n",
      "\n",
      "[22283 rows x 2 columns]\n"
     ]
    }
   ],
   "source": [
    "print(df)"
   ]
  },
  {
   "cell_type": "markdown",
   "id": "bde5101b",
   "metadata": {},
   "source": [
    "pressure and time as a dict"
   ]
  },
  {
   "cell_type": "markdown",
   "id": "7be56dc8",
   "metadata": {},
   "source": [
    "## converted msgpack from log file from bihal"
   ]
  },
  {
   "cell_type": "code",
   "execution_count": 9,
   "id": "1fc25f95",
   "metadata": {},
   "outputs": [
    {
     "name": "stdout",
     "output_type": "stream",
     "text": [
      "18\n",
      "['sensor_ctd.io_raw_out', 'sensor_ctd.io_raw_out.meta', 'sensor_ctd.io_read_listener', 'sensor_ctd.io_read_listener.meta', 'sensor_ctd.io_status', 'sensor_ctd.io_status.meta', 'sensor_ctd.io_write_listener', 'sensor_ctd.io_write_listener.meta', 'sensor_ctd.state', 'sensor_ctd.state.meta', 'sensor_ctd.ctd_samples', 'sensor_ctd.ctd_samples.meta', 'sensor_ctd.depth_samples', 'sensor_ctd.depth_samples.meta', 'sensor_ctd.pressure_samples', 'sensor_ctd.pressure_samples.meta', 'sensor_ctd.temperature_samples', 'sensor_ctd.temperature_samples.meta']\n",
      "18\n"
     ]
    }
   ],
   "source": [
    "log1 = msgpack.unpack(open(\"./conv_data/msg/sensor_ctd_test.msg\", \"rb\"))\n",
    "print(len(log))\n",
    "print(list(log1.keys()))\n",
    "print(len(list(log1.keys())))"
   ]
  },
  {
   "cell_type": "code",
   "execution_count": 10,
   "id": "c9849208",
   "metadata": {},
   "outputs": [
    {
     "name": "stdout",
     "output_type": "stream",
     "text": [
      "b'\\xde\\x00\\x12\\xb5sensor_ctd.io_raw_out\\x90\\xbasensor_ctd.io_raw_out.meta\\x82\\xaatimestamps\\x90\\xa4type\\xb9/iodrivers_base/RawPacket\\xbbsensor_ctd.io_read_listener\\xdd\\x00\\x01\\x01\\xa1\\x82\\xa4time\\x81\\xacmicroseconds\\xcf\\x00\\x05\\xdbr\\x03\\xbb\\tL\\xa4data\\xdc\\x00\\x17$09.912|01.975|00.024\\r\\n\\x82\\xa4time\\x81\\xacmicroseconds\\xcf\\x00\\x05\\xdbr\\x03\\xbb\\x0b5\\xa4data\\xdc\\x00\\x17$09.917|01.974|00.024\\r\\n\\x82\\xa4time\\x81\\xacmicroseconds\\xcf\\x00\\x05\\xdbr\\x03\\xbb\\x0b\\x89\\xa4data\\xdc\\x00\\x17$09.927|01.975|00.024\\r\\n\\x82\\xa4time\\x81\\xacmicroseconds\\xcf\\x00\\x05\\xdbr\\x03\\xbb\\x0b\\xbe\\xa4data\\xdc\\x00\\x17$09.948|01.972|00.024\\r\\n\\x82\\xa4time\\x81\\xacmicroseconds\\xcf\\x00\\x05\\xdbr\\x03\\xbb\\x0b\\xfe\\xa4'\n"
     ]
    }
   ],
   "source": [
    "with open(\"./conv_data/msg/sensor_ctd_test.msg\", \"rb\") as f:\n",
    "    raw_bytes1 = f.read(400)\n",
    "print(raw_bytes1)"
   ]
  },
  {
   "cell_type": "code",
   "execution_count": 11,
   "id": "c5f614a5",
   "metadata": {},
   "outputs": [
    {
     "name": "stdout",
     "output_type": "stream",
     "text": [
      "b'\\xde\\x00$\\xb5sensor_ctd.io_raw_out\\x90\\xbbsensor_ctd.io_read_listener\\xdd\\x00\\x01\\x01\\xa1\\x82\\xa4time\\x81\\xacmicroseconds\\xcf\\x00\\x05\\xdbr\\x03\\xbb\\tL\\xa4data\\xdc\\x00\\x17$09.912|01.975|00.024\\r\\n\\x82\\xa4time\\x81\\xacmicroseconds\\xcf\\x00\\x05\\xdbr\\x03\\xbb\\x0b5\\xa4data\\xdc\\x00\\x17$09.917|01.974|00.024\\r\\n\\x82\\xa4time\\x81\\xacmicroseconds\\xcf\\x00\\x05\\xdbr\\x03\\xbb\\x0b\\x89\\xa4data\\xdc\\x00\\x17$09.927|01.975|00.024\\r\\n\\x82\\xa4time\\x81\\xacmicroseconds\\xcf\\x00\\x05\\xdbr\\x03\\xbb\\x0b\\xbe\\xa4data\\xdc\\x00\\x17$09.948|01.972|00.024\\r\\n\\x82\\xa4time\\x81\\xacmicroseconds\\xcf\\x00\\x05\\xdbr\\x03\\xbb\\x0b\\xfe\\xa4data\\xdc\\x00\\x17$09.959|01.978|00.024\\r\\n\\x82\\xa4time\\x81\\xacmicroseconds\\xcf\\x00\\x05\\xdbr\\x03\\xbb\\x0c.\\xa4data\\xdc\\x00\\x17$09.'\n"
     ]
    }
   ],
   "source": [
    "with open(\"./abisko_trials/ctd.msg\", \"rb\") as f:\n",
    "    raw_bytes = f.read(400)\n",
    "print(raw_bytes)"
   ]
  },
  {
   "cell_type": "code",
   "execution_count": 12,
   "id": "c285265b",
   "metadata": {},
   "outputs": [
    {
     "name": "stdout",
     "output_type": "stream",
     "text": [
      "--- raw_bytes\n",
      "\n",
      "+++ raw_bytes1\n",
      "\n",
      "@@ -1 +1 @@\n",
      "\n",
      "-de0024b573656e736f725f6374642e696f5f7261775f6f757490bb73656e736f725f6374642e696f5f726561645f6c697374656e6572dd000101a182a474696d6581ac6d6963726f7365636f6e6473cf0005db7203bb094ca464617461dc00172430392e3931327c30312e3937357c30302e3032340d0a82a474696d6581ac6d6963726f7365636f6e6473cf0005db7203bb0b35a464617461dc00172430392e3931377c30312e3937347c30302e3032340d0a82a474696d6581ac6d6963726f7365636f6e6473cf0005db7203bb0b89a464617461dc00172430392e3932377c30312e3937357c30302e3032340d0a82a474696d6581ac6d6963726f7365636f6e6473cf0005db7203bb0bbea464617461dc00172430392e3934387c30312e3937327c30302e3032340d0a82a474696d6581ac6d6963726f7365636f6e6473cf0005db7203bb0bfea464617461dc00172430392e3935397c30312e3937387c30302e3032340d0a82a474696d6581ac6d6963726f7365636f6e6473cf0005db7203bb0c2ea464617461dc00172430392e\n",
      "+de0012b573656e736f725f6374642e696f5f7261775f6f757490ba73656e736f725f6374642e696f5f7261775f6f75742e6d65746182aa74696d657374616d707390a474797065b92f696f647269766572735f626173652f5261775061636b6574bb73656e736f725f6374642e696f5f726561645f6c697374656e6572dd000101a182a474696d6581ac6d6963726f7365636f6e6473cf0005db7203bb094ca464617461dc00172430392e3931327c30312e3937357c30302e3032340d0a82a474696d6581ac6d6963726f7365636f6e6473cf0005db7203bb0b35a464617461dc00172430392e3931377c30312e3937347c30302e3032340d0a82a474696d6581ac6d6963726f7365636f6e6473cf0005db7203bb0b89a464617461dc00172430392e3932377c30312e3937357c30302e3032340d0a82a474696d6581ac6d6963726f7365636f6e6473cf0005db7203bb0bbea464617461dc00172430392e3934387c30312e3937327c30302e3032340d0a82a474696d6581ac6d6963726f7365636f6e6473cf0005db7203bb0bfea4\n"
     ]
    }
   ],
   "source": [
    "hex1 = raw_bytes.hex()\n",
    "hex2 = raw_bytes1.hex()\n",
    "\n",
    "diff = difflib.unified_diff(hex1.split(), hex2.split(), fromfile='raw_bytes', tofile='raw_bytes1')\n",
    "print('\\n'.join(diff))"
   ]
  },
  {
   "cell_type": "markdown",
   "id": "6a850563",
   "metadata": {},
   "source": [
    "\"de\" at the beginning signifies that this encoding is a 16-bit map\n",
    "https://github.com/msgpack/msgpack/blob/master/spec.md"
   ]
  },
  {
   "cell_type": "code",
   "execution_count": 13,
   "id": "1ee74aa1",
   "metadata": {},
   "outputs": [
    {
     "name": "stdout",
     "output_type": "stream",
     "text": [
      "Byte 2: 36 != 18\n",
      "Byte 26: 187 != 186\n",
      "Byte 42: 101 != 97\n",
      "Byte 43: 97 != 119\n",
      "Byte 44: 100 != 95\n",
      "Byte 45: 95 != 111\n",
      "Byte 46: 108 != 117\n",
      "Byte 47: 105 != 116\n",
      "Byte 48: 115 != 46\n",
      "Byte 49: 116 != 109\n",
      "Byte 51: 110 != 116\n",
      "Byte 52: 101 != 97\n",
      "Byte 53: 114 != 130\n",
      "Byte 54: 221 != 170\n",
      "Byte 55: 0 != 116\n",
      "Byte 56: 1 != 105\n",
      "Byte 57: 1 != 109\n",
      "Byte 58: 161 != 101\n",
      "Byte 59: 130 != 115\n",
      "Byte 60: 164 != 116\n",
      "Byte 61: 116 != 97\n",
      "Byte 62: 105 != 109\n",
      "Byte 63: 109 != 112\n",
      "Byte 64: 101 != 115\n",
      "Byte 65: 129 != 144\n",
      "Byte 66: 172 != 164\n",
      "Byte 67: 109 != 116\n",
      "Byte 68: 105 != 121\n",
      "Byte 69: 99 != 112\n",
      "Byte 70: 114 != 101\n",
      "Byte 71: 111 != 185\n",
      "Byte 72: 115 != 47\n",
      "Byte 73: 101 != 105\n",
      "Byte 74: 99 != 111\n",
      "Byte 75: 111 != 100\n",
      "Byte 76: 110 != 114\n",
      "Byte 77: 100 != 105\n",
      "Byte 78: 115 != 118\n",
      "Byte 79: 207 != 101\n",
      "Byte 80: 0 != 114\n",
      "Byte 81: 5 != 115\n",
      "Byte 82: 219 != 95\n",
      "Byte 83: 114 != 98\n",
      "Byte 84: 3 != 97\n",
      "Byte 85: 187 != 115\n",
      "Byte 86: 9 != 101\n",
      "Byte 87: 76 != 47\n",
      "Byte 88: 164 != 82\n",
      "Byte 89: 100 != 97\n",
      "Byte 90: 97 != 119\n",
      "Byte 91: 116 != 80\n",
      "Byte 93: 220 != 99\n",
      "Byte 94: 0 != 107\n",
      "Byte 95: 23 != 101\n",
      "Byte 96: 36 != 116\n",
      "Byte 97: 48 != 187\n",
      "Byte 98: 57 != 115\n",
      "Byte 99: 46 != 101\n",
      "Byte 100: 57 != 110\n",
      "Byte 101: 49 != 115\n",
      "Byte 102: 50 != 111\n",
      "Byte 103: 124 != 114\n",
      "Byte 104: 48 != 95\n",
      "Byte 105: 49 != 99\n",
      "Byte 106: 46 != 116\n",
      "Byte 107: 57 != 100\n",
      "Byte 108: 55 != 46\n",
      "Byte 109: 53 != 105\n",
      "Byte 110: 124 != 111\n",
      "Byte 111: 48 != 95\n",
      "Byte 112: 48 != 114\n",
      "Byte 113: 46 != 101\n",
      "Byte 114: 48 != 97\n",
      "Byte 115: 50 != 100\n",
      "Byte 116: 52 != 95\n",
      "Byte 117: 13 != 108\n",
      "Byte 118: 10 != 105\n",
      "Byte 119: 130 != 115\n",
      "Byte 120: 164 != 116\n",
      "Byte 121: 116 != 101\n",
      "Byte 122: 105 != 110\n",
      "Byte 123: 109 != 101\n",
      "Byte 124: 101 != 114\n",
      "Byte 125: 129 != 221\n",
      "Byte 126: 172 != 0\n",
      "Byte 127: 109 != 1\n",
      "Byte 128: 105 != 1\n",
      "Byte 129: 99 != 161\n",
      "Byte 130: 114 != 130\n",
      "Byte 131: 111 != 164\n",
      "Byte 132: 115 != 116\n",
      "Byte 133: 101 != 105\n",
      "Byte 134: 99 != 109\n",
      "Byte 135: 111 != 101\n",
      "Byte 136: 110 != 129\n",
      "Byte 137: 100 != 172\n",
      "Byte 138: 115 != 109\n",
      "Byte 139: 207 != 105\n",
      "Byte 140: 0 != 99\n",
      "Byte 141: 5 != 114\n",
      "Byte 142: 219 != 111\n",
      "Byte 143: 114 != 115\n",
      "Byte 144: 3 != 101\n",
      "Byte 145: 187 != 99\n",
      "Byte 146: 11 != 111\n",
      "Byte 147: 53 != 110\n",
      "Byte 148: 164 != 100\n",
      "Byte 149: 100 != 115\n",
      "Byte 150: 97 != 207\n",
      "Byte 151: 116 != 0\n",
      "Byte 152: 97 != 5\n",
      "Byte 153: 220 != 219\n",
      "Byte 154: 0 != 114\n",
      "Byte 155: 23 != 3\n",
      "Byte 156: 36 != 187\n",
      "Byte 157: 48 != 9\n",
      "Byte 158: 57 != 76\n",
      "Byte 159: 46 != 164\n",
      "Byte 160: 57 != 100\n",
      "Byte 161: 49 != 97\n",
      "Byte 162: 55 != 116\n",
      "Byte 163: 124 != 97\n",
      "Byte 164: 48 != 220\n",
      "Byte 165: 49 != 0\n",
      "Byte 166: 46 != 23\n",
      "Byte 167: 57 != 36\n",
      "Byte 168: 55 != 48\n",
      "Byte 169: 52 != 57\n",
      "Byte 170: 124 != 46\n",
      "Byte 171: 48 != 57\n",
      "Byte 172: 48 != 49\n",
      "Byte 173: 46 != 50\n",
      "Byte 174: 48 != 124\n",
      "Byte 175: 50 != 48\n",
      "Byte 176: 52 != 49\n",
      "Byte 177: 13 != 46\n",
      "Byte 178: 10 != 57\n",
      "Byte 179: 130 != 55\n",
      "Byte 180: 164 != 53\n",
      "Byte 181: 116 != 124\n",
      "Byte 182: 105 != 48\n",
      "Byte 183: 109 != 48\n",
      "Byte 184: 101 != 46\n",
      "Byte 185: 129 != 48\n",
      "Byte 186: 172 != 50\n",
      "Byte 187: 109 != 52\n",
      "Byte 188: 105 != 13\n",
      "Byte 189: 99 != 10\n",
      "Byte 190: 114 != 130\n",
      "Byte 191: 111 != 164\n",
      "Byte 192: 115 != 116\n",
      "Byte 193: 101 != 105\n",
      "Byte 194: 99 != 109\n",
      "Byte 195: 111 != 101\n",
      "Byte 196: 110 != 129\n",
      "Byte 197: 100 != 172\n",
      "Byte 198: 115 != 109\n",
      "Byte 199: 207 != 105\n",
      "Byte 200: 0 != 99\n",
      "Byte 201: 5 != 114\n",
      "Byte 202: 219 != 111\n",
      "Byte 203: 114 != 115\n",
      "Byte 204: 3 != 101\n",
      "Byte 205: 187 != 99\n",
      "Byte 206: 11 != 111\n",
      "Byte 207: 137 != 110\n",
      "Byte 208: 164 != 100\n",
      "Byte 209: 100 != 115\n",
      "Byte 210: 97 != 207\n",
      "Byte 211: 116 != 0\n",
      "Byte 212: 97 != 5\n",
      "Byte 213: 220 != 219\n",
      "Byte 214: 0 != 114\n",
      "Byte 215: 23 != 3\n",
      "Byte 216: 36 != 187\n",
      "Byte 217: 48 != 11\n",
      "Byte 218: 57 != 53\n",
      "Byte 219: 46 != 164\n",
      "Byte 220: 57 != 100\n",
      "Byte 221: 50 != 97\n",
      "Byte 222: 55 != 116\n",
      "Byte 223: 124 != 97\n",
      "Byte 224: 48 != 220\n",
      "Byte 225: 49 != 0\n",
      "Byte 226: 46 != 23\n",
      "Byte 227: 57 != 36\n",
      "Byte 228: 55 != 48\n",
      "Byte 229: 53 != 57\n",
      "Byte 230: 124 != 46\n",
      "Byte 231: 48 != 57\n",
      "Byte 232: 48 != 49\n",
      "Byte 233: 46 != 55\n",
      "Byte 234: 48 != 124\n",
      "Byte 235: 50 != 48\n",
      "Byte 236: 52 != 49\n",
      "Byte 237: 13 != 46\n",
      "Byte 238: 10 != 57\n",
      "Byte 239: 130 != 55\n",
      "Byte 240: 164 != 52\n",
      "Byte 241: 116 != 124\n",
      "Byte 242: 105 != 48\n",
      "Byte 243: 109 != 48\n",
      "Byte 244: 101 != 46\n",
      "Byte 245: 129 != 48\n",
      "Byte 246: 172 != 50\n",
      "Byte 247: 109 != 52\n",
      "Byte 248: 105 != 13\n",
      "Byte 249: 99 != 10\n",
      "Byte 250: 114 != 130\n",
      "Byte 251: 111 != 164\n",
      "Byte 252: 115 != 116\n",
      "Byte 253: 101 != 105\n",
      "Byte 254: 99 != 109\n",
      "Byte 255: 111 != 101\n",
      "Byte 256: 110 != 129\n",
      "Byte 257: 100 != 172\n",
      "Byte 258: 115 != 109\n",
      "Byte 259: 207 != 105\n",
      "Byte 260: 0 != 99\n",
      "Byte 261: 5 != 114\n",
      "Byte 262: 219 != 111\n",
      "Byte 263: 114 != 115\n",
      "Byte 264: 3 != 101\n",
      "Byte 265: 187 != 99\n",
      "Byte 266: 11 != 111\n",
      "Byte 267: 190 != 110\n",
      "Byte 268: 164 != 100\n",
      "Byte 269: 100 != 115\n",
      "Byte 270: 97 != 207\n",
      "Byte 271: 116 != 0\n",
      "Byte 272: 97 != 5\n",
      "Byte 273: 220 != 219\n",
      "Byte 274: 0 != 114\n",
      "Byte 275: 23 != 3\n",
      "Byte 276: 36 != 187\n",
      "Byte 277: 48 != 11\n",
      "Byte 278: 57 != 137\n",
      "Byte 279: 46 != 164\n",
      "Byte 280: 57 != 100\n",
      "Byte 281: 52 != 97\n",
      "Byte 282: 56 != 116\n",
      "Byte 283: 124 != 97\n",
      "Byte 284: 48 != 220\n",
      "Byte 285: 49 != 0\n",
      "Byte 286: 46 != 23\n",
      "Byte 287: 57 != 36\n",
      "Byte 288: 55 != 48\n",
      "Byte 289: 50 != 57\n",
      "Byte 290: 124 != 46\n",
      "Byte 291: 48 != 57\n",
      "Byte 292: 48 != 50\n",
      "Byte 293: 46 != 55\n",
      "Byte 294: 48 != 124\n",
      "Byte 295: 50 != 48\n",
      "Byte 296: 52 != 49\n",
      "Byte 297: 13 != 46\n",
      "Byte 298: 10 != 57\n",
      "Byte 299: 130 != 55\n",
      "Byte 300: 164 != 53\n",
      "Byte 301: 116 != 124\n",
      "Byte 302: 105 != 48\n",
      "Byte 303: 109 != 48\n",
      "Byte 304: 101 != 46\n",
      "Byte 305: 129 != 48\n",
      "Byte 306: 172 != 50\n",
      "Byte 307: 109 != 52\n",
      "Byte 308: 105 != 13\n",
      "Byte 309: 99 != 10\n",
      "Byte 310: 114 != 130\n",
      "Byte 311: 111 != 164\n",
      "Byte 312: 115 != 116\n",
      "Byte 313: 101 != 105\n",
      "Byte 314: 99 != 109\n",
      "Byte 315: 111 != 101\n",
      "Byte 316: 110 != 129\n",
      "Byte 317: 100 != 172\n",
      "Byte 318: 115 != 109\n",
      "Byte 319: 207 != 105\n",
      "Byte 320: 0 != 99\n",
      "Byte 321: 5 != 114\n",
      "Byte 322: 219 != 111\n",
      "Byte 323: 114 != 115\n",
      "Byte 324: 3 != 101\n",
      "Byte 325: 187 != 99\n",
      "Byte 326: 11 != 111\n",
      "Byte 327: 254 != 110\n",
      "Byte 328: 164 != 100\n",
      "Byte 329: 100 != 115\n",
      "Byte 330: 97 != 207\n",
      "Byte 331: 116 != 0\n",
      "Byte 332: 97 != 5\n",
      "Byte 333: 220 != 219\n",
      "Byte 334: 0 != 114\n",
      "Byte 335: 23 != 3\n",
      "Byte 336: 36 != 187\n",
      "Byte 337: 48 != 11\n",
      "Byte 338: 57 != 190\n",
      "Byte 339: 46 != 164\n",
      "Byte 340: 57 != 100\n",
      "Byte 341: 53 != 97\n",
      "Byte 342: 57 != 116\n",
      "Byte 343: 124 != 97\n",
      "Byte 344: 48 != 220\n",
      "Byte 345: 49 != 0\n",
      "Byte 346: 46 != 23\n",
      "Byte 347: 57 != 36\n",
      "Byte 348: 55 != 48\n",
      "Byte 349: 56 != 57\n",
      "Byte 350: 124 != 46\n",
      "Byte 351: 48 != 57\n",
      "Byte 352: 48 != 52\n",
      "Byte 353: 46 != 56\n",
      "Byte 354: 48 != 124\n",
      "Byte 355: 50 != 48\n",
      "Byte 356: 52 != 49\n",
      "Byte 357: 13 != 46\n",
      "Byte 358: 10 != 57\n",
      "Byte 359: 130 != 55\n",
      "Byte 360: 164 != 50\n",
      "Byte 361: 116 != 124\n",
      "Byte 362: 105 != 48\n",
      "Byte 363: 109 != 48\n",
      "Byte 364: 101 != 46\n",
      "Byte 365: 129 != 48\n",
      "Byte 366: 172 != 50\n",
      "Byte 367: 109 != 52\n",
      "Byte 368: 105 != 13\n",
      "Byte 369: 99 != 10\n",
      "Byte 370: 114 != 130\n",
      "Byte 371: 111 != 164\n",
      "Byte 372: 115 != 116\n",
      "Byte 373: 101 != 105\n",
      "Byte 374: 99 != 109\n",
      "Byte 375: 111 != 101\n",
      "Byte 376: 110 != 129\n",
      "Byte 377: 100 != 172\n",
      "Byte 378: 115 != 109\n",
      "Byte 379: 207 != 105\n",
      "Byte 380: 0 != 99\n",
      "Byte 381: 5 != 114\n",
      "Byte 382: 219 != 111\n",
      "Byte 383: 114 != 115\n",
      "Byte 384: 3 != 101\n",
      "Byte 385: 187 != 99\n",
      "Byte 386: 12 != 111\n",
      "Byte 387: 46 != 110\n",
      "Byte 388: 164 != 100\n",
      "Byte 389: 100 != 115\n",
      "Byte 390: 97 != 207\n",
      "Byte 391: 116 != 0\n",
      "Byte 392: 97 != 5\n",
      "Byte 393: 220 != 219\n",
      "Byte 394: 0 != 114\n",
      "Byte 395: 23 != 3\n",
      "Byte 396: 36 != 187\n",
      "Byte 397: 48 != 11\n",
      "Byte 398: 57 != 254\n",
      "Byte 399: 46 != 164\n"
     ]
    }
   ],
   "source": [
    "for i, (b1, b2) in enumerate(zip(raw_bytes, raw_bytes1)):\n",
    "    if b1 != b2:\n",
    "        print(f\"Byte {i}: {b1} != {b2}\")"
   ]
  },
  {
   "cell_type": "code",
   "execution_count": 14,
   "id": "1faf12ca",
   "metadata": {},
   "outputs": [
    {
     "name": "stdout",
     "output_type": "stream",
     "text": [
      "sensor_ctd.io_raw_out: type=<class 'list'>, length=0\n",
      "sensor_ctd.io_read_listener: type=<class 'list'>, length=65953\n",
      "sensor_ctd.io_status: type=<class 'list'>, length=2561\n",
      "sensor_ctd.io_write_listener: type=<class 'list'>, length=5\n",
      "sensor_ctd.state: type=<class 'list'>, length=3\n",
      "sensor_ctd.ctd_samples: type=<class 'list'>, length=22302\n",
      "sensor_ctd.depth_samples: type=<class 'list'>, length=22302\n",
      "sensor_ctd.pressure_samples: type=<class 'list'>, length=22283\n",
      "sensor_ctd.temperature_samples: type=<class 'list'>, length=22277\n",
      "sensor_ctd.io_raw_out.meta: type=<class 'dict'>, length=2\n",
      "sensor_ctd.io_read_listener.meta: type=<class 'dict'>, length=2\n",
      "sensor_ctd.io_status.meta: type=<class 'dict'>, length=2\n",
      "sensor_ctd.io_write_listener.meta: type=<class 'dict'>, length=2\n",
      "sensor_ctd.state.meta: type=<class 'dict'>, length=2\n",
      "sensor_ctd.ctd_samples.meta: type=<class 'dict'>, length=2\n",
      "sensor_ctd.depth_samples.meta: type=<class 'dict'>, length=2\n",
      "sensor_ctd.pressure_samples.meta: type=<class 'dict'>, length=2\n",
      "sensor_ctd.temperature_samples.meta: type=<class 'dict'>, length=2\n"
     ]
    }
   ],
   "source": [
    "for key in log:\n",
    "    value = log[key]\n",
    "    print(f\"{key}: type={type(value)}, length={len(value) if hasattr(value, '__len__') else 'N/A'}\")"
   ]
  },
  {
   "cell_type": "code",
   "execution_count": 15,
   "id": "d1cc136c",
   "metadata": {},
   "outputs": [
    {
     "name": "stdout",
     "output_type": "stream",
     "text": [
      "sensor_ctd.io_raw_out: type=<class 'list'>, length=0\n",
      "sensor_ctd.io_raw_out.meta: type=<class 'dict'>, length=2\n",
      "sensor_ctd.io_read_listener: type=<class 'list'>, length=65953\n",
      "sensor_ctd.io_read_listener.meta: type=<class 'dict'>, length=2\n",
      "sensor_ctd.io_status: type=<class 'list'>, length=2561\n",
      "sensor_ctd.io_status.meta: type=<class 'dict'>, length=2\n",
      "sensor_ctd.io_write_listener: type=<class 'list'>, length=5\n",
      "sensor_ctd.io_write_listener.meta: type=<class 'dict'>, length=2\n",
      "sensor_ctd.state: type=<class 'list'>, length=3\n",
      "sensor_ctd.state.meta: type=<class 'dict'>, length=2\n",
      "sensor_ctd.ctd_samples: type=<class 'list'>, length=22302\n",
      "sensor_ctd.ctd_samples.meta: type=<class 'dict'>, length=2\n",
      "sensor_ctd.depth_samples: type=<class 'list'>, length=22302\n",
      "sensor_ctd.depth_samples.meta: type=<class 'dict'>, length=2\n",
      "sensor_ctd.pressure_samples: type=<class 'list'>, length=22283\n",
      "sensor_ctd.pressure_samples.meta: type=<class 'dict'>, length=2\n",
      "sensor_ctd.temperature_samples: type=<class 'list'>, length=22277\n",
      "sensor_ctd.temperature_samples.meta: type=<class 'dict'>, length=2\n"
     ]
    }
   ],
   "source": [
    "for key in log1:\n",
    "    value = log[key]\n",
    "    print(f\"{key}: type={type(value)}, length={len(value) if hasattr(value, '__len__') else 'N/A'}\")"
   ]
  },
  {
   "cell_type": "code",
   "execution_count": 18,
   "id": "d1e02100",
   "metadata": {},
   "outputs": [
    {
     "name": "stdout",
     "output_type": "stream",
     "text": [
      "['sensor_ctd.io_raw_out', 'sensor_ctd.io_read_listener', 'sensor_ctd.io_status', 'sensor_ctd.io_write_listener', 'sensor_ctd.state', 'sensor_ctd.ctd_samples', 'sensor_ctd.depth_samples', 'sensor_ctd.pressure_samples', 'sensor_ctd.temperature_samples', 'sensor_ctd.io_raw_out.meta', 'sensor_ctd.io_read_listener.meta', 'sensor_ctd.io_status.meta', 'sensor_ctd.io_write_listener.meta', 'sensor_ctd.state.meta', 'sensor_ctd.ctd_samples.meta', 'sensor_ctd.depth_samples.meta', 'sensor_ctd.pressure_samples.meta', 'sensor_ctd.temperature_samples.meta']\n",
      "['sensor_ctd.io_raw_out', 'sensor_ctd.io_raw_out.meta', 'sensor_ctd.io_read_listener', 'sensor_ctd.io_read_listener.meta', 'sensor_ctd.io_status', 'sensor_ctd.io_status.meta', 'sensor_ctd.io_write_listener', 'sensor_ctd.io_write_listener.meta', 'sensor_ctd.state', 'sensor_ctd.state.meta', 'sensor_ctd.ctd_samples', 'sensor_ctd.ctd_samples.meta', 'sensor_ctd.depth_samples', 'sensor_ctd.depth_samples.meta', 'sensor_ctd.pressure_samples', 'sensor_ctd.pressure_samples.meta', 'sensor_ctd.temperature_samples', 'sensor_ctd.temperature_samples.meta']\n",
      "<class 'list'>\n",
      "22283\n"
     ]
    }
   ],
   "source": [
    "print(list(log.keys()))\n",
    "print(list(log1.keys()))\n",
    "\n",
    "# If you see a key like 'sensor_ctd.pressure_samples', print its type and length:\n",
    "if 'sensor_ctd.pressure_samples' in log:\n",
    "    print(type(log['sensor_ctd.pressure_samples']))\n",
    "    print(len(log['sensor_ctd.pressure_samples']))\n",
    "else:\n",
    "    print(\"'sensor_ctd.pressure_samples' not found in log\")"
   ]
  },
  {
   "cell_type": "code",
   "execution_count": 19,
   "id": "8193d7f8",
   "metadata": {},
   "outputs": [
    {
     "name": "stdout",
     "output_type": "stream",
     "text": [
      "Sorted keys in log:\n",
      "['sensor_ctd.ctd_samples', 'sensor_ctd.ctd_samples.meta', 'sensor_ctd.depth_samples', 'sensor_ctd.depth_samples.meta', 'sensor_ctd.io_raw_out', 'sensor_ctd.io_raw_out.meta', 'sensor_ctd.io_read_listener', 'sensor_ctd.io_read_listener.meta', 'sensor_ctd.io_status', 'sensor_ctd.io_status.meta', 'sensor_ctd.io_write_listener', 'sensor_ctd.io_write_listener.meta', 'sensor_ctd.pressure_samples', 'sensor_ctd.pressure_samples.meta', 'sensor_ctd.state', 'sensor_ctd.state.meta', 'sensor_ctd.temperature_samples', 'sensor_ctd.temperature_samples.meta']\n",
      "Sorted keys in log1:\n",
      "['sensor_ctd.ctd_samples', 'sensor_ctd.ctd_samples.meta', 'sensor_ctd.depth_samples', 'sensor_ctd.depth_samples.meta', 'sensor_ctd.io_raw_out', 'sensor_ctd.io_raw_out.meta', 'sensor_ctd.io_read_listener', 'sensor_ctd.io_read_listener.meta', 'sensor_ctd.io_status', 'sensor_ctd.io_status.meta', 'sensor_ctd.io_write_listener', 'sensor_ctd.io_write_listener.meta', 'sensor_ctd.pressure_samples', 'sensor_ctd.pressure_samples.meta', 'sensor_ctd.state', 'sensor_ctd.state.meta', 'sensor_ctd.temperature_samples', 'sensor_ctd.temperature_samples.meta']\n"
     ]
    }
   ],
   "source": [
    "print('Sorted keys in log:')\n",
    "print(sorted(log.keys()))\n",
    "print('Sorted keys in log1:')\n",
    "print(sorted(log1.keys()))"
   ]
  },
  {
   "cell_type": "code",
   "execution_count": 20,
   "id": "1988e607",
   "metadata": {},
   "outputs": [
    {
     "name": "stdout",
     "output_type": "stream",
     "text": [
      "sensor_ctd.ctd_samples: list, lengths: 22302 vs 22302, equal: True\n",
      "sensor_ctd.ctd_samples.meta: dict, lengths: 2 vs 2, equal: True\n",
      "sensor_ctd.depth_samples: list, lengths: 22302 vs 22302, equal: False\n",
      "sensor_ctd.depth_samples.meta: dict, lengths: 2 vs 2, equal: True\n",
      "sensor_ctd.io_raw_out: list, lengths: 0 vs 0, equal: True\n",
      "sensor_ctd.io_raw_out.meta: dict, lengths: 2 vs 2, equal: True\n",
      "sensor_ctd.io_read_listener: list, lengths: 65953 vs 65953, equal: True\n",
      "sensor_ctd.io_read_listener.meta: dict, lengths: 2 vs 2, equal: True\n",
      "sensor_ctd.io_status: list, lengths: 2561 vs 2561, equal: True\n",
      "sensor_ctd.io_status.meta: dict, lengths: 2 vs 2, equal: True\n",
      "sensor_ctd.io_write_listener: list, lengths: 5 vs 5, equal: True\n",
      "sensor_ctd.io_write_listener.meta: dict, lengths: 2 vs 2, equal: True\n",
      "sensor_ctd.pressure_samples: list, lengths: 22283 vs 22283, equal: True\n",
      "sensor_ctd.pressure_samples.meta: dict, lengths: 2 vs 2, equal: True\n",
      "sensor_ctd.state: list, lengths: 3 vs 3, equal: True\n",
      "sensor_ctd.state.meta: dict, lengths: 2 vs 2, equal: True\n",
      "sensor_ctd.temperature_samples: list, lengths: 22277 vs 22277, equal: True\n",
      "sensor_ctd.temperature_samples.meta: dict, lengths: 2 vs 2, equal: True\n"
     ]
    }
   ],
   "source": [
    "for key in sorted(set(log.keys()).union(log1.keys())):\n",
    "    v1 = log.get(key, '<missing>')\n",
    "    v2 = log1.get(key, '<missing>')\n",
    "    if type(v1) != type(v2):\n",
    "        print(f\"{key}: type differs ({type(v1)} vs {type(v2)})\")\n",
    "    elif isinstance(v1, dict):\n",
    "        print(f\"{key}: dict, lengths: {len(v1)} vs {len(v2)}, equal: {v1 == v2}\")\n",
    "    elif isinstance(v1, list):\n",
    "        print(f\"{key}: list, lengths: {len(v1)} vs {len(v2)}, equal: {v1 == v2}\")\n",
    "    else:\n",
    "        print(f\"{key}: {v1 == v2}\")"
   ]
  },
  {
   "cell_type": "code",
   "execution_count": 21,
   "id": "f0906d3f",
   "metadata": {},
   "outputs": [
    {
     "name": "stdout",
     "output_type": "stream",
     "text": [
      "First mismatch at index 0:\n",
      "  log : {'time': {'microseconds': 1648657618897349}, 'sourceFrame': '', 'targetFrame': '', 'position': {'data': [nan, nan, -0.2369332627916412]}, 'cov_position': {'data': [nan, nan, nan, nan, nan, nan, nan, nan, 0.010000000000000002]}, 'orientation': {'im': [nan, nan, nan], 're': nan}, 'cov_orientation': {'data': [nan, nan, nan, nan, nan, nan, nan, nan, nan]}, 'velocity': {'data': [nan, nan, nan]}, 'cov_velocity': {'data': [nan, nan, nan, nan, nan, nan, nan, nan, nan]}, 'angular_velocity': {'data': [nan, nan, nan]}, 'cov_angular_velocity': {'data': [nan, nan, nan, nan, nan, nan, nan, nan, nan]}}\n",
      "  log1: {'time': {'microseconds': 1648657618897349}, 'sourceFrame': '', 'targetFrame': '', 'position': {'data': [nan, nan, -0.2369332627916412]}, 'cov_position': {'data': [nan, nan, nan, nan, nan, nan, nan, nan, 0.010000000000000002]}, 'orientation': {'im': [nan, nan, nan], 're': nan}, 'cov_orientation': {'data': [nan, nan, nan, nan, nan, nan, nan, nan, nan]}, 'velocity': {'data': [nan, nan, nan]}, 'cov_velocity': {'data': [nan, nan, nan, nan, nan, nan, nan, nan, nan]}, 'angular_velocity': {'data': [nan, nan, nan]}, 'cov_angular_velocity': {'data': [nan, nan, nan, nan, nan, nan, nan, nan, nan]}}\n"
     ]
    }
   ],
   "source": [
    "depth1 = log['sensor_ctd.depth_samples']\n",
    "depth2 = log1['sensor_ctd.depth_samples']\n",
    "\n",
    "for i, (v1, v2) in enumerate(zip(depth1, depth2)):\n",
    "    if v1 != v2:\n",
    "        print(f\"First mismatch at index {i}:\")\n",
    "        print(\"  log :\", v1)\n",
    "        print(\"  log1:\", v2)\n",
    "        break\n",
    "else:\n",
    "    print(\"No mismatches found (unexpected, since lists are not equal).\")"
   ]
  },
  {
   "cell_type": "code",
   "execution_count": 22,
   "id": "5afffb12",
   "metadata": {},
   "outputs": [
    {
     "name": "stdout",
     "output_type": "stream",
     "text": [
      "No real mismatches found (all differences are just nan vs nan).\n"
     ]
    }
   ],
   "source": [
    "import math\n",
    "\n",
    "def safe_equal(a, b):\n",
    "    if isinstance(a, float) and isinstance(b, float):\n",
    "        if math.isnan(a) and math.isnan(b):\n",
    "            return True\n",
    "        return a == b\n",
    "    if isinstance(a, dict) and isinstance(b, dict):\n",
    "        if set(a.keys()) != set(b.keys()):\n",
    "            return False\n",
    "        return all(safe_equal(a[k], b[k]) for k in a)\n",
    "    if isinstance(a, list) and isinstance(b, list):\n",
    "        if len(a) != len(b):\n",
    "            return False\n",
    "        return all(safe_equal(x, y) for x, y in zip(a, b))\n",
    "    return a == b\n",
    "\n",
    "for i, (v1, v2) in enumerate(zip(depth1, depth2)):\n",
    "    if not safe_equal(v1, v2):\n",
    "        print(f\"First real mismatch at index {i}:\")\n",
    "        print(\"  log :\", v1)\n",
    "        print(\"  log1:\", v2)\n",
    "        break\n",
    "else:\n",
    "    print(\"No real mismatches found (all differences are just nan vs nan).\")"
   ]
  }
 ],
 "metadata": {
  "kernelspec": {
   "display_name": "venv",
   "language": "python",
   "name": "python3"
  },
  "language_info": {
   "codemirror_mode": {
    "name": "ipython",
    "version": 3
   },
   "file_extension": ".py",
   "mimetype": "text/x-python",
   "name": "python",
   "nbconvert_exporter": "python",
   "pygments_lexer": "ipython3",
   "version": "3.12.3"
  }
 },
 "nbformat": 4,
 "nbformat_minor": 5
}
