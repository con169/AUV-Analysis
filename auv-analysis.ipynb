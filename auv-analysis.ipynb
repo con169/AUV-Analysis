{
 "cells": [
  {
   "cell_type": "code",
   "execution_count": null,
   "id": "203a94e8",
   "metadata": {},
   "outputs": [],
   "source": [
    "import msgpack\n",
    "import pandas\n",
    "import matplotlib\n",
    "import difflib"
   ]
  },
  {
   "cell_type": "markdown",
   "id": "29a0caaa",
   "metadata": {},
   "source": [
    "## MessagePack as seen on Zenodo"
   ]
  },
  {
   "cell_type": "code",
   "execution_count": null,
   "id": "25e7726a",
   "metadata": {},
   "outputs": [],
   "source": [
    "with open(\"./abisko_trials/ctd.msg\", \"rb\") as f:\n",
    "    raw_bytes = f.read(400)\n",
    "print(raw_bytes)"
   ]
  },
  {
   "cell_type": "code",
   "execution_count": null,
   "id": "3576c192",
   "metadata": {},
   "outputs": [],
   "source": [
    "log = msgpack.unpack(open(\"./abisko_trials/ctd.msg\", \"rb\"))\n",
    "print(type(log))\n",
    "df = pandas.DataFrame(log['sensor_ctd.pressure_samples'])"
   ]
  },
  {
   "cell_type": "code",
   "execution_count": null,
   "id": "6c7ab87e",
   "metadata": {},
   "outputs": [],
   "source": [
    "print(list(log.keys()))\n",
    "print(len(list(log.keys())))"
   ]
  },
  {
   "cell_type": "code",
   "execution_count": null,
   "id": "325b411e",
   "metadata": {},
   "outputs": [],
   "source": [
    "print(df)"
   ]
  },
  {
   "cell_type": "markdown",
   "id": "bde5101b",
   "metadata": {},
   "source": [
    "pressure and time as a dict"
   ]
  },
  {
   "cell_type": "markdown",
   "id": "7be56dc8",
   "metadata": {},
   "source": [
    "## converted msgpack from log file from bihal"
   ]
  },
  {
   "cell_type": "code",
   "execution_count": null,
   "id": "1fc25f95",
   "metadata": {},
   "outputs": [],
   "source": [
    "log1 = msgpack.unpack(open(\"./conv_data/msg/sensor_ctd_test.msg\", \"rb\"))\n",
    "print(len(log))\n",
    "print(list(log1.keys()))\n",
    "print(len(list(log1.keys())))"
   ]
  },
  {
   "cell_type": "code",
   "execution_count": null,
   "id": "c9849208",
   "metadata": {},
   "outputs": [],
   "source": [
    "with open(\"./conv_data/msg/sensor_ctd_test.msg\", \"rb\") as f:\n",
    "    raw_bytes1 = f.read(400)\n",
    "print(raw_bytes1)"
   ]
  },
  {
   "cell_type": "code",
   "execution_count": null,
   "id": "c5f614a5",
   "metadata": {},
   "outputs": [],
   "source": [
    "with open(\"./abisko_trials/ctd.msg\", \"rb\") as f:\n",
    "    raw_bytes = f.read(400)\n",
    "print(raw_bytes)"
   ]
  },
  {
   "cell_type": "code",
   "execution_count": null,
   "id": "c285265b",
   "metadata": {},
   "outputs": [],
   "source": [
    "hex1 = raw_bytes.hex()\n",
    "hex2 = raw_bytes1.hex()\n",
    "\n",
    "diff = difflib.unified_diff(hex1.split(), hex2.split(), fromfile='raw_bytes', tofile='raw_bytes1')\n",
    "print('\\n'.join(diff))"
   ]
  },
  {
   "cell_type": "markdown",
   "id": "6a850563",
   "metadata": {},
   "source": [
    "\"de\" at the beginning signifies that this encoding is a 16-bit map\n",
    "https://github.com/msgpack/msgpack/blob/master/spec.md"
   ]
  },
  {
   "cell_type": "code",
   "execution_count": null,
   "id": "1ee74aa1",
   "metadata": {},
   "outputs": [],
   "source": [
    "for i, (b1, b2) in enumerate(zip(raw_bytes, raw_bytes1)):\n",
    "    if b1 != b2:\n",
    "        print(f\"Byte {i}: {b1} != {b2}\")"
   ]
  },
  {
   "cell_type": "code",
   "execution_count": null,
   "id": "1faf12ca",
   "metadata": {},
   "outputs": [],
   "source": [
    "for key in log:\n",
    "    value = log[key]\n",
    "    print(f\"{key}: type={type(value)}, length={len(value) if hasattr(value, '__len__') else 'N/A'}\")"
   ]
  },
  {
   "cell_type": "code",
   "execution_count": null,
   "id": "d1cc136c",
   "metadata": {},
   "outputs": [],
   "source": [
    "for key in log1:\n",
    "    value = log[key]\n",
    "    print(f\"{key}: type={type(value)}, length={len(value) if hasattr(value, '__len__') else 'N/A'}\")"
   ]
  },
  {
   "cell_type": "code",
   "execution_count": null,
   "id": "b57d04f7",
   "metadata": {},
   "outputs": [],
   "source": [
    "import pprint\n",
    "print('log:')\n",
    "pprint.pprint(log)\n",
    "print('log1:')\n",
    "pprint.pprint(log1)\n",
    "\n",
    "print('Differences:')\n",
    "for key in set(log.keys()).union(log1.keys()):\n",
    "    v1 = log.get(key, '<missing>')\n",
    "    v2 = log1.get(key, '<missing>')\n",
    "    if v1 != v2:\n",
    "        print(f'{key}:', v1, '!=', v2)"
   ]
  },
  {
   "cell_type": "code",
   "execution_count": null,
   "id": "d8ebfecb",
   "metadata": {},
   "outputs": [],
   "source": [
    "def compare_dicts(d1, d2, prefix=''):\n",
    "    for key in set(d1.keys()).union(d2.keys()):\n",
    "        p = f'{prefix}{key}'\n",
    "        if key not in d1:\n",
    "            print(f'Missing in log: {p}')\n",
    "        elif key not in d2:\n",
    "            print(f'Missing in log1: {p}')\n",
    "        else:\n",
    "            v1, v2 = d1[key], d2[key]\n",
    "            if isinstance(v1, dict) and isinstance(v2, dict):\n",
    "                compare_dicts(v1, v2, prefix=p + '.')\n",
    "            elif isinstance(v1, list) and isinstance(v2, list):\n",
    "                if len(v1) != len(v2):\n",
    "                    print(f'List length differs at {p}: {len(v1)} != {len(v2)}')\n",
    "                for i, (item1, item2) in enumerate(zip(v1, v2)):\n",
    "                    if item1 != item2:\n",
    "                        print(f'Difference at {p}[{i}]: {item1} != {item2}')\n",
    "            elif v1 != v2:\n",
    "                print(f'Difference at {p}: {v1} != {v2}')\n",
    "\n",
    "# Usage:\n",
    "compare_dicts(log, log1)"
   ]
  },
  {
   "cell_type": "code",
   "execution_count": null,
   "id": "d1e02100",
   "metadata": {},
   "outputs": [],
   "source": [
    "print(list(log.keys()))\n",
    "print(list(log1.keys()))\n",
    "\n",
    "# If you see a key like 'sensor_ctd.pressure_samples', print its type and length:\n",
    "if 'sensor_ctd.pressure_samples' in log:\n",
    "    print(type(log['sensor_ctd.pressure_samples']))\n",
    "    print(len(log['sensor_ctd.pressure_samples']))\n",
    "else:\n",
    "    print(\"'sensor_ctd.pressure_samples' not found in log\")"
   ]
  },
  {
   "cell_type": "code",
   "execution_count": null,
   "id": "8193d7f8",
   "metadata": {},
   "outputs": [],
   "source": [
    "print('Sorted keys in log:')\n",
    "print(sorted(log.keys()))\n",
    "print('Sorted keys in log1:')\n",
    "print(sorted(log1.keys()))"
   ]
  },
  {
   "cell_type": "code",
   "execution_count": null,
   "id": "1988e607",
   "metadata": {},
   "outputs": [],
   "source": [
    "for key in sorted(set(log.keys()).union(log1.keys())):\n",
    "    v1 = log.get(key, '<missing>')\n",
    "    v2 = log1.get(key, '<missing>')\n",
    "    if type(v1) != type(v2):\n",
    "        print(f\"{key}: type differs ({type(v1)} vs {type(v2)})\")\n",
    "    elif isinstance(v1, dict):\n",
    "        print(f\"{key}: dict, lengths: {len(v1)} vs {len(v2)}, equal: {v1 == v2}\")\n",
    "    elif isinstance(v1, list):\n",
    "        print(f\"{key}: list, lengths: {len(v1)} vs {len(v2)}, equal: {v1 == v2}\")\n",
    "    else:\n",
    "        print(f\"{key}: {v1 == v2}\")"
   ]
  },
  {
   "cell_type": "code",
   "execution_count": null,
   "id": "f0906d3f",
   "metadata": {},
   "outputs": [],
   "source": [
    "depth1 = log['sensor_ctd.depth_samples']\n",
    "depth2 = log1['sensor_ctd.depth_samples']\n",
    "\n",
    "for i, (v1, v2) in enumerate(zip(depth1, depth2)):\n",
    "    if v1 != v2:\n",
    "        print(f\"First mismatch at index {i}:\")\n",
    "        print(\"  log :\", v1)\n",
    "        print(\"  log1:\", v2)\n",
    "        break\n",
    "else:\n",
    "    print(\"No mismatches found (unexpected, since lists are not equal).\")"
   ]
  },
  {
   "cell_type": "code",
   "execution_count": null,
   "id": "5afffb12",
   "metadata": {},
   "outputs": [],
   "source": [
    "import math\n",
    "\n",
    "def safe_equal(a, b):\n",
    "    if isinstance(a, float) and isinstance(b, float):\n",
    "        if math.isnan(a) and math.isnan(b):\n",
    "            return True\n",
    "        return a == b\n",
    "    if isinstance(a, dict) and isinstance(b, dict):\n",
    "        if set(a.keys()) != set(b.keys()):\n",
    "            return False\n",
    "        return all(safe_equal(a[k], b[k]) for k in a)\n",
    "    if isinstance(a, list) and isinstance(b, list):\n",
    "        if len(a) != len(b):\n",
    "            return False\n",
    "        return all(safe_equal(x, y) for x, y in zip(a, b))\n",
    "    return a == b\n",
    "\n",
    "for i, (v1, v2) in enumerate(zip(depth1, depth2)):\n",
    "    if not safe_equal(v1, v2):\n",
    "        print(f\"First real mismatch at index {i}:\")\n",
    "        print(\"  log :\", v1)\n",
    "        print(\"  log1:\", v2)\n",
    "        break\n",
    "else:\n",
    "    print(\"No real mismatches found (all differences are just nan vs nan).\")"
   ]
  }
 ],
 "metadata": {
  "language_info": {
   "name": "python"
  }
 },
 "nbformat": 4,
 "nbformat_minor": 5
}
